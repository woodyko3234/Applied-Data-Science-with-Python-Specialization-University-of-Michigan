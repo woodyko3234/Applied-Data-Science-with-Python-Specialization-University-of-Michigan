{
 "cells": [
  {
   "cell_type": "markdown",
   "metadata": {},
   "source": [
    "---\n",
    "\n",
    "_You are currently looking at **version 1.1** of this notebook. To download notebooks and datafiles, as well as get help on Jupyter notebooks in the Coursera platform, visit the [Jupyter Notebook FAQ](https://www.coursera.org/learn/python-text-mining/resources/d9pwm) course resource._\n",
    "\n",
    "---"
   ]
  },
  {
   "cell_type": "markdown",
   "metadata": {},
   "source": [
    "# Assignment 1\n",
    "\n",
    "In this assignment, you'll be working with messy medical data and using regex to extract relevant infromation from the data. \n",
    "\n",
    "Each line of the `dates.txt` file corresponds to a medical note. Each note has a date that needs to be extracted, but each date is encoded in one of many formats.\n",
    "\n",
    "The goal of this assignment is to correctly identify all of the different date variants encoded in this dataset and to properly normalize and sort the dates. \n",
    "\n",
    "Here is a list of some of the variants you might encounter in this dataset:\n",
    "* 04/20/2009; 04/20/09; 4/20/09; 4/3/09\n",
    "* Mar-20-2009; Mar 20, 2009; March 20, 2009;  Mar. 20, 2009; Mar 20 2009;\n",
    "* 20 Mar 2009; 20 March 2009; 20 Mar. 2009; 20 March, 2009\n",
    "* Mar 20th, 2009; Mar 21st, 2009; Mar 22nd, 2009\n",
    "* Feb 2009; Sep 2009; Oct 2010\n",
    "* 6/2008; 12/2009\n",
    "* 2009; 2010\n",
    "\n",
    "Once you have extracted these date patterns from the text, the next step is to sort them in ascending chronological order accoring to the following rules:\n",
    "* Assume all dates in xx/xx/xx format are mm/dd/yy\n",
    "* Assume all dates where year is encoded in only two digits are years from the 1900's (e.g. 1/5/89 is January 5th, 1989)\n",
    "* If the day is missing (e.g. 9/2009), assume it is the first day of the month (e.g. September 1, 2009).\n",
    "* If the month is missing (e.g. 2010), assume it is the first of January of that year (e.g. January 1, 2010).\n",
    "* Watch out for potential typos as this is a raw, real-life derived dataset.\n",
    "\n",
    "With these rules in mind, find the correct date in each note and return a pandas Series in chronological order of the original Series' indices.\n",
    "\n",
    "For example if the original series was this:\n",
    "\n",
    "    0    1999\n",
    "    1    2010\n",
    "    2    1978\n",
    "    3    2015\n",
    "    4    1985\n",
    "\n",
    "Your function should return this:\n",
    "\n",
    "    0    2\n",
    "    1    4\n",
    "    2    0\n",
    "    3    1\n",
    "    4    3\n",
    "\n",
    "Your score will be calculated using [Kendall's tau](https://en.wikipedia.org/wiki/Kendall_rank_correlation_coefficient), a correlation measure for ordinal data.\n",
    "\n",
    "*This function should return a Series of length 500 and dtype int.*"
   ]
  },
  {
   "cell_type": "code",
   "execution_count": 111,
   "metadata": {},
   "outputs": [
    {
     "data": {
      "text/plain": [
       "0         03/25/93 Total time of visit (in minutes):\\n\n",
       "1                       6/18/85 Primary Care Doctor:\\n\n",
       "2    sshe plans to move as of 7/8/71 In-Home Servic...\n",
       "3                7 on 9/27/75 Audit C Score Current:\\n\n",
       "4    2/6/96 sleep studyPain Treatment Pain Level (N...\n",
       "5                    .Per 7/06/79 Movement D/O note:\\n\n",
       "6    4, 5/18/78 Patient's thoughts about current su...\n",
       "7    10/24/89 CPT Code: 90801 - Psychiatric Diagnos...\n",
       "8                         3/7/86 SOS-10 Total Score:\\n\n",
       "9             (4/10/71)Score-1Audit C Score Current:\\n\n",
       "dtype: object"
      ]
     },
     "execution_count": 111,
     "metadata": {},
     "output_type": "execute_result"
    }
   ],
   "source": [
    "import pandas as pd\n",
    "import numpy as np\n",
    "from datetime import datetime\n",
    "doc = []\n",
    "with open('dates.txt') as file:\n",
    "    for line in file:\n",
    "        doc.append(line)\n",
    "\n",
    "df = pd.Series(doc)\n",
    "df.head(10)"
   ]
  },
  {
   "cell_type": "code",
   "execution_count": 2,
   "metadata": {},
   "outputs": [
    {
     "data": {
      "text/plain": [
       "['03/25/93', 'Total', 'time', 'of', 'visit', '(in', 'minutes):']"
      ]
     },
     "execution_count": 2,
     "metadata": {},
     "output_type": "execute_result"
    }
   ],
   "source": [
    "#print(df.str.len())\n",
    "#print(df.str.split().str.len())\n",
    "df.str.split()[0]"
   ]
  },
  {
   "cell_type": "code",
   "execution_count": 3,
   "metadata": {
    "collapsed": true
   },
   "outputs": [],
   "source": [
    "#how many lines we need to look up?\n",
    "#print(len(df))"
   ]
  },
  {
   "cell_type": "code",
   "execution_count": 4,
   "metadata": {},
   "outputs": [
    {
     "data": {
      "text/plain": [
       "[]"
      ]
     },
     "execution_count": 4,
     "metadata": {},
     "output_type": "execute_result"
    }
   ],
   "source": [
    "s = ' 6/2008; 12/2009'\n",
    "s = '04/20/2009; 04/20/09; 4/20/09; 4/3/09'\n",
    "import re\n",
    "re.findall(r'(?:\\s)\\d{1,2}/\\d{4}', s)"
   ]
  },
  {
   "cell_type": "code",
   "execution_count": 5,
   "metadata": {
    "scrolled": true
   },
   "outputs": [
    {
     "data": {
      "text/html": [
       "<div>\n",
       "<style>\n",
       "    .dataframe thead tr:only-child th {\n",
       "        text-align: right;\n",
       "    }\n",
       "\n",
       "    .dataframe thead th {\n",
       "        text-align: left;\n",
       "    }\n",
       "\n",
       "    .dataframe tbody tr th {\n",
       "        vertical-align: top;\n",
       "    }\n",
       "</style>\n",
       "<table border=\"1\" class=\"dataframe\">\n",
       "  <thead>\n",
       "    <tr style=\"text-align: right;\">\n",
       "      <th></th>\n",
       "      <th></th>\n",
       "      <th>month</th>\n",
       "      <th>year</th>\n",
       "    </tr>\n",
       "    <tr>\n",
       "      <th></th>\n",
       "      <th>match</th>\n",
       "      <th></th>\n",
       "      <th></th>\n",
       "    </tr>\n",
       "  </thead>\n",
       "  <tbody>\n",
       "    <tr>\n",
       "      <th>343</th>\n",
       "      <th>0</th>\n",
       "      <td>6</td>\n",
       "      <td>1998</td>\n",
       "    </tr>\n",
       "    <tr>\n",
       "      <th>345</th>\n",
       "      <th>0</th>\n",
       "      <td>10</td>\n",
       "      <td>1973</td>\n",
       "    </tr>\n",
       "    <tr>\n",
       "      <th>346</th>\n",
       "      <th>0</th>\n",
       "      <td>9</td>\n",
       "      <td>2005</td>\n",
       "    </tr>\n",
       "    <tr>\n",
       "      <th>348</th>\n",
       "      <th>0</th>\n",
       "      <td>12</td>\n",
       "      <td>2005</td>\n",
       "    </tr>\n",
       "    <tr>\n",
       "      <th>349</th>\n",
       "      <th>0</th>\n",
       "      <td>5</td>\n",
       "      <td>1987</td>\n",
       "    </tr>\n",
       "    <tr>\n",
       "      <th>350</th>\n",
       "      <th>0</th>\n",
       "      <td>5</td>\n",
       "      <td>2004</td>\n",
       "    </tr>\n",
       "    <tr>\n",
       "      <th>353</th>\n",
       "      <th>0</th>\n",
       "      <td>10</td>\n",
       "      <td>1997</td>\n",
       "    </tr>\n",
       "    <tr>\n",
       "      <th>355</th>\n",
       "      <th>0</th>\n",
       "      <td>3</td>\n",
       "      <td>1981</td>\n",
       "    </tr>\n",
       "    <tr>\n",
       "      <th>360</th>\n",
       "      <th>0</th>\n",
       "      <td>12</td>\n",
       "      <td>2008</td>\n",
       "    </tr>\n",
       "    <tr>\n",
       "      <th>363</th>\n",
       "      <th>0</th>\n",
       "      <td>12</td>\n",
       "      <td>1975</td>\n",
       "    </tr>\n",
       "    <tr>\n",
       "      <th>369</th>\n",
       "      <th>0</th>\n",
       "      <td>1</td>\n",
       "      <td>1978</td>\n",
       "    </tr>\n",
       "    <tr>\n",
       "      <th>375</th>\n",
       "      <th>0</th>\n",
       "      <td>06</td>\n",
       "      <td>1973</td>\n",
       "    </tr>\n",
       "    <tr>\n",
       "      <th>376</th>\n",
       "      <th>0</th>\n",
       "      <td>2</td>\n",
       "      <td>1999</td>\n",
       "    </tr>\n",
       "    <tr>\n",
       "      <th>379</th>\n",
       "      <th>0</th>\n",
       "      <td>8</td>\n",
       "      <td>2009</td>\n",
       "    </tr>\n",
       "    <tr>\n",
       "      <th>385</th>\n",
       "      <th>0</th>\n",
       "      <td>7</td>\n",
       "      <td>1989</td>\n",
       "    </tr>\n",
       "    <tr>\n",
       "      <th>386</th>\n",
       "      <th>0</th>\n",
       "      <td>7</td>\n",
       "      <td>2009</td>\n",
       "    </tr>\n",
       "    <tr>\n",
       "      <th>389</th>\n",
       "      <th>0</th>\n",
       "      <td>2</td>\n",
       "      <td>2009</td>\n",
       "    </tr>\n",
       "    <tr>\n",
       "      <th>390</th>\n",
       "      <th>0</th>\n",
       "      <td>08</td>\n",
       "      <td>1988</td>\n",
       "    </tr>\n",
       "    <tr>\n",
       "      <th>391</th>\n",
       "      <th>0</th>\n",
       "      <td>4</td>\n",
       "      <td>2007</td>\n",
       "    </tr>\n",
       "    <tr>\n",
       "      <th>393</th>\n",
       "      <th>0</th>\n",
       "      <td>4</td>\n",
       "      <td>2012</td>\n",
       "    </tr>\n",
       "    <tr>\n",
       "      <th>395</th>\n",
       "      <th>0</th>\n",
       "      <td>2</td>\n",
       "      <td>1977</td>\n",
       "    </tr>\n",
       "    <tr>\n",
       "      <th>396</th>\n",
       "      <th>0</th>\n",
       "      <td>8</td>\n",
       "      <td>2008</td>\n",
       "    </tr>\n",
       "    <tr>\n",
       "      <th>397</th>\n",
       "      <th>0</th>\n",
       "      <td>2</td>\n",
       "      <td>1983</td>\n",
       "    </tr>\n",
       "    <tr>\n",
       "      <th>404</th>\n",
       "      <th>0</th>\n",
       "      <td>10</td>\n",
       "      <td>1986</td>\n",
       "    </tr>\n",
       "    <tr>\n",
       "      <th>406</th>\n",
       "      <th>0</th>\n",
       "      <td>12</td>\n",
       "      <td>1994</td>\n",
       "    </tr>\n",
       "    <tr>\n",
       "      <th>411</th>\n",
       "      <th>0</th>\n",
       "      <td>8</td>\n",
       "      <td>2010</td>\n",
       "    </tr>\n",
       "    <tr>\n",
       "      <th>413</th>\n",
       "      <th>0</th>\n",
       "      <td>11</td>\n",
       "      <td>2016</td>\n",
       "    </tr>\n",
       "    <tr>\n",
       "      <th>415</th>\n",
       "      <th>0</th>\n",
       "      <td>2</td>\n",
       "      <td>1973</td>\n",
       "    </tr>\n",
       "    <tr>\n",
       "      <th>422</th>\n",
       "      <th>0</th>\n",
       "      <td>4</td>\n",
       "      <td>1973</td>\n",
       "    </tr>\n",
       "    <tr>\n",
       "      <th>429</th>\n",
       "      <th>0</th>\n",
       "      <td>11</td>\n",
       "      <td>1982</td>\n",
       "    </tr>\n",
       "    <tr>\n",
       "      <th>430</th>\n",
       "      <th>0</th>\n",
       "      <td>06</td>\n",
       "      <td>1981</td>\n",
       "    </tr>\n",
       "    <tr>\n",
       "      <th>434</th>\n",
       "      <th>0</th>\n",
       "      <td>10</td>\n",
       "      <td>1978</td>\n",
       "    </tr>\n",
       "    <tr>\n",
       "      <th>440</th>\n",
       "      <th>0</th>\n",
       "      <td>6</td>\n",
       "      <td>1989</td>\n",
       "    </tr>\n",
       "    <tr>\n",
       "      <th>441</th>\n",
       "      <th>0</th>\n",
       "      <td>9</td>\n",
       "      <td>1980</td>\n",
       "    </tr>\n",
       "    <tr>\n",
       "      <th>442</th>\n",
       "      <th>0</th>\n",
       "      <td>9</td>\n",
       "      <td>1992</td>\n",
       "    </tr>\n",
       "    <tr>\n",
       "      <th>444</th>\n",
       "      <th>0</th>\n",
       "      <td>7</td>\n",
       "      <td>1981</td>\n",
       "    </tr>\n",
       "    <tr>\n",
       "      <th>448</th>\n",
       "      <th>0</th>\n",
       "      <td>5</td>\n",
       "      <td>2010</td>\n",
       "    </tr>\n",
       "    <tr>\n",
       "      <th>450</th>\n",
       "      <th>0</th>\n",
       "      <td>1</td>\n",
       "      <td>1994</td>\n",
       "    </tr>\n",
       "    <tr>\n",
       "      <th>453</th>\n",
       "      <th>0</th>\n",
       "      <td>7</td>\n",
       "      <td>1991</td>\n",
       "    </tr>\n",
       "    <tr>\n",
       "      <th>454</th>\n",
       "      <th>0</th>\n",
       "      <td>7</td>\n",
       "      <td>1982</td>\n",
       "    </tr>\n",
       "  </tbody>\n",
       "</table>\n",
       "</div>"
      ],
      "text/plain": [
       "          month  year\n",
       "    match            \n",
       "343 0         6  1998\n",
       "345 0        10  1973\n",
       "346 0         9  2005\n",
       "348 0        12  2005\n",
       "349 0         5  1987\n",
       "350 0         5  2004\n",
       "353 0        10  1997\n",
       "355 0         3  1981\n",
       "360 0        12  2008\n",
       "363 0        12  1975\n",
       "369 0         1  1978\n",
       "375 0        06  1973\n",
       "376 0         2  1999\n",
       "379 0         8  2009\n",
       "385 0         7  1989\n",
       "386 0         7  2009\n",
       "389 0         2  2009\n",
       "390 0        08  1988\n",
       "391 0         4  2007\n",
       "393 0         4  2012\n",
       "395 0         2  1977\n",
       "396 0         8  2008\n",
       "397 0         2  1983\n",
       "404 0        10  1986\n",
       "406 0        12  1994\n",
       "411 0         8  2010\n",
       "413 0        11  2016\n",
       "415 0         2  1973\n",
       "422 0         4  1973\n",
       "429 0        11  1982\n",
       "430 0        06  1981\n",
       "434 0        10  1978\n",
       "440 0         6  1989\n",
       "441 0         9  1980\n",
       "442 0         9  1992\n",
       "444 0         7  1981\n",
       "448 0         5  2010\n",
       "450 0         1  1994\n",
       "453 0         7  1991\n",
       "454 0         7  1982"
      ]
     },
     "execution_count": 5,
     "metadata": {},
     "output_type": "execute_result"
    }
   ],
   "source": [
    "df.str.extractall(r'(?<=[ ,.();:!?/])(?<!/)(?P<month>\\d{1,2})[/-](?P<year>\\d{4})[ ,.();:!?]{1,}\\b')\n",
    "df.str.extractall(r'^(?P<month>\\d{1,2})[/-](?P<year>\\d{4})[ ,.();:!?]{1,}\\b')"
   ]
  },
  {
   "cell_type": "code",
   "execution_count": 89,
   "metadata": {},
   "outputs": [
    {
     "data": {
      "text/plain": [
       "125"
      ]
     },
     "execution_count": 89,
     "metadata": {},
     "output_type": "execute_result"
    }
   ],
   "source": [
    "#deal with str repressed as follows: \"04/20/2009; 04/20/09; 4/20/09; 4/3/09\"\n",
    "pattern1_1 = df.str.extractall(r'(?P<month>\\d{1,2})[/-](?P<date>\\d{1,2})[/-](?P<year>\\d{2})\\b').reset_index()\n",
    "pattern1_1['year'] = '19'+pattern1_1['year']\n",
    "pattern1_2 = df.str.extractall(r'(?P<month>\\d{1,2})[/-](?P<date>\\d{1,2})[/-](?P<year>\\d{4})\\b').reset_index()\n",
    "pattern1 = pd.concat([pattern1_1,pattern1_2])\n",
    "pattern1.drop_duplicates(subset='level_0', inplace = True) #keep first, drop later duplicates\n",
    "\n",
    "#2009; 2010\n",
    "#this should be considered with months expressed in strings such as:\n",
    "#Mar-20-2009; Mar 20, 2009; March 20, 2009; Mar. 20, 2009; Mar 20 2009;\n",
    "#20 Mar 2009; 20 March 2009; 20 Mar. 2009; 20 March, 2009\n",
    "#Mar 20th, 2009; Mar 21st, 2009; Mar 22nd, 2009\n",
    "#Feb 2009; Sep 2009; Oct 2010\n",
    "len(pattern1)"
   ]
  },
  {
   "cell_type": "code",
   "execution_count": 90,
   "metadata": {
    "collapsed": true
   },
   "outputs": [],
   "source": [
    "#len(pattern1_2.append(pattern1_1)['level_0'].unique())"
   ]
  },
  {
   "cell_type": "code",
   "execution_count": 91,
   "metadata": {},
   "outputs": [
    {
     "data": {
      "text/plain": [
       "34"
      ]
     },
     "execution_count": 91,
     "metadata": {},
     "output_type": "execute_result"
    }
   ],
   "source": [
    "#Mar-20-2009; Mar 20, 2009; March 20, 2009; Mar. 20, 2009; Mar 20 2009; together \n",
    "\n",
    "pattern3 = df.str.extractall(r'(?P<month>(?:Jan|Feb|Mar|Apr|May|Jun|Jul|Aug|Sep|Oct|Nov|Dec))[a-z]*[-.]*\\s(?P<date>(?:\\d{1,2}))[?:., /-]*(?P<year>\\d{4})').reset_index()\n",
    "len(pattern3)"
   ]
  },
  {
   "cell_type": "code",
   "execution_count": 92,
   "metadata": {
    "collapsed": true
   },
   "outputs": [],
   "source": [
    "#20 Mar 2009; 20 March 2009; 20 Mar. 2009; 20 March, 2009\n",
    "#r'((?:\\d{1,2} ))?((?:Jan|Feb|Mar|Apr|May|Jun|Jul|Aug|Sep|Oct|Nov|Dec)[a-z]*[?:, -]* )(\\d{4})'\n",
    "pattern4_1 = df.str.extractall(r'(?P<date>\\d{1,2})\\s(?P<month>(?:Jan|Feb|Mar|Apr|May|Jun|Jul|Aug|Sep|Oct|Nov|Dec))[a-z]*[?:., /-]*(?P<year>\\d{4})').reset_index()\n",
    "#len(pattern4_1)"
   ]
  },
  {
   "cell_type": "code",
   "execution_count": 93,
   "metadata": {
    "scrolled": true
   },
   "outputs": [
    {
     "data": {
      "text/plain": [
       "184"
      ]
     },
     "execution_count": 93,
     "metadata": {},
     "output_type": "execute_result"
    }
   ],
   "source": [
    "#Feb 2009; Sep 2009; Oct 2010\n",
    "pattern4_2 = df.str.extractall(r'(?P<month>(?:Jan|Feb|Mar|Apr|May|Jun|Jul|Aug|Sep|Oct|Nov|Dec))[a-z]*[?:., /-]*(?P<year>\\d{4})').reset_index()\n",
    "pattern4 = pd.concat([pattern4_1,pattern4_2])\n",
    "pattern4.drop_duplicates(subset='level_0', inplace = True) #keep first, drop later duplicates\n",
    "pattern4.loc[pattern4['date'].isnull(), ['date']] = 1\n",
    "len(pattern4) #len(pattern4['level_0'].unique())"
   ]
  },
  {
   "cell_type": "code",
   "execution_count": 94,
   "metadata": {},
   "outputs": [
    {
     "data": {
      "text/plain": [
       "(112, 112)"
      ]
     },
     "execution_count": 94,
     "metadata": {},
     "output_type": "execute_result"
    }
   ],
   "source": [
    "#6/2008; 12/2009  (\\d{1,2})[/](\\d{4})\n",
    "pattern2 = df.str.extractall(r'(?P<month>\\d{1,2})[/](?P<year>\\d{4})').reset_index()\n",
    "#print(len(pattern2)) #138\n",
    "for i in list(pattern1_2['level_0'].unique()):\n",
    "    pattern2.loc[pattern2['level_0'] == i, ['level_0']] = np.nan\n",
    "pattern2.dropna(subset = ['level_0'], how = 'any', axis = 0, inplace = True)\n",
    "#pattern2.drop_duplicates(subset='level_0', inplace = True) #keep first, drop later duplicates\n",
    "pattern2['date'] = 1\n",
    "len(pattern2['level_0'].unique()), len(pattern2)"
   ]
  },
  {
   "cell_type": "code",
   "execution_count": 95,
   "metadata": {
    "collapsed": true,
    "scrolled": true
   },
   "outputs": [],
   "source": [
    "#df.str.findall(r'(?P<month>%s|%s)[ .,/-]+(?P<year>\\d{4})[() .,/?!;:-]{1,}\\b'  \n",
    "#                    %(month_str, full_mon))"
   ]
  },
  {
   "cell_type": "code",
   "execution_count": 96,
   "metadata": {},
   "outputs": [
    {
     "data": {
      "text/plain": [
       "455"
      ]
     },
     "execution_count": 96,
     "metadata": {},
     "output_type": "execute_result"
    }
   ],
   "source": [
    "#combine data and check whether there are any duplicates\n",
    "\n",
    "combined_dates = pattern1.append(pattern2).append(\n",
    "                    pattern3).append(\n",
    "                    pattern4)\n",
    "len(combined_dates['level_0'].unique())"
   ]
  },
  {
   "cell_type": "code",
   "execution_count": 97,
   "metadata": {
    "scrolled": true
   },
   "outputs": [
    {
     "data": {
      "text/plain": [
       "(45, 45)"
      ]
     },
     "execution_count": 97,
     "metadata": {},
     "output_type": "execute_result"
    }
   ],
   "source": [
    "#final: 2009; 2010\n",
    "pattern5_1 = df.str.extractall(r'[a-z]?[^0-9](?P<year>\\d{4})[^0-9]').reset_index()\n",
    "check_index = combined_dates['level_0'].unique()\n",
    "for i in range(len(pattern5_1)):\n",
    "    if pattern5_1['level_0'][i] in check_index:\n",
    "        pattern5_1.drop(i, inplace = True)\n",
    "pattern5_2 = df.str.extractall(r'^[\\\"., ()-]*(?P<year>\\d{4})[^0-9]').reset_index()\n",
    "pattern5 = pd.concat([pattern6_1, pattern6_2])\n",
    "pattern5.drop_duplicates(subset='level_0', inplace = True)\n",
    "pattern5['month'] = 1\n",
    "pattern5['date'] = 1\n",
    "len(pattern5), len(pattern5['level_0'].unique())"
   ]
  },
  {
   "cell_type": "code",
   "execution_count": 98,
   "metadata": {},
   "outputs": [],
   "source": [
    "#Mar 20th, 2009; Mar 21st, 2009; Mar 22nd, 2009\n",
    "#pattern7 = df.str.extractall(r'(?P<month>%s)[a-z]*[ .,/-]+(?P<date>\\d{1,2})%s{2}[ .,/-]+(?P<year>\\d{4})' \n",
    "#                             %(month_str, date_str))\n",
    "#len(pattern7) #no such type"
   ]
  },
  {
   "cell_type": "code",
   "execution_count": 99,
   "metadata": {},
   "outputs": [],
   "source": [
    "combined_dates = combined_dates.append(pattern5)\n",
    "#len(combined_dates)"
   ]
  },
  {
   "cell_type": "code",
   "execution_count": 100,
   "metadata": {},
   "outputs": [],
   "source": [
    "from datetime import datetime\n",
    "\n",
    "combined_dates['m-d-y'] =pd.to_datetime(combined_dates['month'].apply(str)+'/'+\n",
    "                                        combined_dates['date'].apply(str)+'/'+\n",
    "                                        combined_dates['year'].apply(str))\n",
    "combined_dates = combined_dates.set_index('level_0').sort_index()\n",
    "combined_dates['time_rank'] = 0"
   ]
  },
  {
   "cell_type": "code",
   "execution_count": 112,
   "metadata": {},
   "outputs": [],
   "source": [
    "sorted_date = sorted(combined_dates['m-d-y'])\n",
    "for i, v in enumerate(sorted_date):\n",
    "    combined_dates.loc[combined_dates['m-d-y'] == v, ['time_rank']] = i+1\n",
    "    \n",
    "answer = combined_dates['time_rank']\n",
    "#answer\n",
    "#combined_dates"
   ]
  },
  {
   "cell_type": "code",
   "execution_count": 113,
   "metadata": {
    "collapsed": true
   },
   "outputs": [],
   "source": [
    "def date_sorter():\n",
    "    '''\n",
    "    Here is a list of some of the variants you might encounter in this dataset:\n",
    "    \n",
    "    <<Data structure>>\n",
    "    04/20/2009; 04/20/09; 4/20/09; 4/3/09 <done>\n",
    "    Mar-20-2009; Mar 20, 2009; March 20, 2009; Mar. 20, 2009; Mar 20 2009; <done>\n",
    "    20 Mar 2009; 20 March 2009; 20 Mar. 2009; 20 March, 2009 <done>\n",
    "    Mar 20th, 2009; Mar 21st, 2009; Mar 22nd, 2009 <done>\n",
    "    Feb 2009; Sep 2009; Oct 2010 <done>\n",
    "    6/2008; 12/2009 <done>\n",
    "    2009; 2010\n",
    "    Once you have extracted these date patterns from the text, \n",
    "    the next step is to sort them in ascending chronological order accoring to the following rules:\n",
    "    \n",
    "    <<Data manipulation>>\n",
    "    Assume all dates in xx/xx/xx format are mm/dd/yy\n",
    "    Assume all dates where year is encoded in only two digits are years from the 1900's \n",
    "    (e.g. 1/5/89 is January 5th, 1989)\n",
    "    If the day is missing (e.g. 9/2009), assume it is the first day of the month (e.g. September 1, 2009).\n",
    "    If the month is missing (e.g. 2010), assume it is the first of January of that year (e.g. January 1, 2010).\n",
    "    Watch out for potential typos as this is a raw, real-life derived dataset.\n",
    "    With these rules in mind, find the correct date in each note and return a pandas Series \n",
    "    in chronological order of the original Series' indices.\n",
    "    \n",
    "    <<Output>>\n",
    "    Return a Series with ranking, more recent, higher ranking, and vise versa.\n",
    "    '''\n",
    "    #deal with str repressed as follows: \"04/20/2009; 04/20/09; 4/20/09; 4/3/09\"\n",
    "    pattern1_1 = df.str.extractall(r'(?P<month>\\d{1,2})[/-](?P<date>\\d{1,2})[/-](?P<year>\\d{2})\\b').reset_index()\n",
    "    pattern1_1['year'] = '19'+pattern1_1['year']\n",
    "    pattern1_2 = df.str.extractall(r'(?P<month>\\d{1,2})[/-](?P<date>\\d{1,2})[/-](?P<year>\\d{4})\\b').reset_index()\n",
    "    pattern1 = pd.concat([pattern1_1,pattern1_2])\n",
    "    pattern1.drop_duplicates(subset='level_0', inplace = True) #keep first, drop later duplicates\n",
    "    \n",
    "    #Mar-20-2009; Mar 20, 2009; March 20, 2009; Mar. 20, 2009; Mar 20 2009; together \n",
    "\n",
    "    pattern3 = df.str.extractall(r'(?P<month>(?:Jan|Feb|Mar|Apr|May|Jun|Jul|Aug|Sep|Oct|Nov|Dec))[a-z]*[-.]*\\s(?P<date>(?:\\d{1,2}))[?:., /-]*(?P<year>\\d{4})').reset_index()\n",
    "    #20 Mar 2009; 20 March 2009; 20 Mar. 2009; 20 March, 2009\n",
    "    pattern4_1 = df.str.extractall(r'(?P<date>\\d{1,2})\\s(?P<month>(?:Jan|Feb|Mar|Apr|May|Jun|Jul|Aug|Sep|Oct|Nov|Dec))[a-z]*[?:., /-]*(?P<year>\\d{4})').reset_index()\n",
    "    #Feb 2009; Sep 2009; Oct 2010\n",
    "    pattern4_2 = df.str.extractall(r'(?P<month>(?:Jan|Feb|Mar|Apr|May|Jun|Jul|Aug|Sep|Oct|Nov|Dec))[a-z]*[?:., /-]*(?P<year>\\d{4})').reset_index()\n",
    "    pattern4 = pd.concat([pattern4_1,pattern4_2])\n",
    "    pattern4.drop_duplicates(subset='level_0', inplace = True) #keep first, drop later duplicates\n",
    "    pattern4.loc[pattern4['date'].isnull(), ['date']] = 1\n",
    "    \n",
    "    #6/2008; 12/2009  (\\d{1,2})[/](\\d{4})\n",
    "    pattern2 = df.str.extractall(r'(?P<month>\\d{1,2})[/](?P<year>\\d{4})').reset_index()\n",
    "    #print(len(pattern2)) #138\n",
    "    for i in list(pattern1_2['level_0'].unique()):\n",
    "        pattern2.loc[pattern2['level_0'] == i, ['level_0']] = np.nan\n",
    "    pattern2.dropna(subset = ['level_0'], how = 'any', axis = 0, inplace = True)\n",
    "    #pattern2.drop_duplicates(subset='level_0', inplace = True) #keep first, drop later duplicates\n",
    "    pattern2['date'] = 1\n",
    "    \n",
    "    #combine data and check whether there are any duplicates\n",
    "\n",
    "    combined_dates = pattern1.append(pattern2).append(\n",
    "                    pattern3).append(\n",
    "                    pattern4)\n",
    "\n",
    "    #final: 2009; 2010\n",
    "    pattern5_1 = df.str.extractall(r'[a-z]?[^0-9](?P<year>\\d{4})[^0-9]').reset_index()\n",
    "    check_index = combined_dates['level_0'].unique()\n",
    "    for i in range(len(pattern5_1)):\n",
    "        if pattern5_1['level_0'][i] in check_index:\n",
    "            pattern5_1.drop(i, inplace = True)\n",
    "    pattern5_2 = df.str.extractall(r'^[\\\"., ()-]*(?P<year>\\d{4})[^0-9]').reset_index()\n",
    "    pattern5 = pd.concat([pattern6_1, pattern6_2])\n",
    "    pattern5.drop_duplicates(subset='level_0', inplace = True)\n",
    "    pattern5['month'] = 1\n",
    "    pattern5['date'] = 1\n",
    "    \n",
    "    combined_dates = combined_dates.append(pattern5)\n",
    "\n",
    "    combined_dates['m-d-y'] =pd.to_datetime(combined_dates['month'].apply(str)+'/'+\n",
    "                                        combined_dates['date'].apply(str)+'/'+\n",
    "                                        combined_dates['year'].apply(str))\n",
    "    combined_dates = combined_dates.set_index('level_0').sort_index()\n",
    "    combined_dates['time_rank'] = 0\n",
    "    \n",
    "    sorted_date = sorted(combined_dates['m-d-y'])\n",
    "    for i, v in enumerate(sorted_date):\n",
    "        combined_dates.loc[combined_dates['m-d-y'] == v, ['time_rank']] = i+1\n",
    "    \n",
    "    answer = combined_dates['time_rank']\n",
    "    return answer"
   ]
  },
  {
   "cell_type": "code",
   "execution_count": 114,
   "metadata": {},
   "outputs": [
    {
     "data": {
      "text/plain": [
       "level_0\n",
       "0.0      273\n",
       "1.0      171\n",
       "2.0        3\n",
       "3.0       56\n",
       "4.0      313\n",
       "5.0      100\n",
       "6.0       89\n",
       "7.0      229\n",
       "8.0      181\n",
       "9.0        1\n",
       "10.0     169\n",
       "11.0      49\n",
       "12.0     335\n",
       "13.0       8\n",
       "14.0     237\n",
       "15.0     459\n",
       "16.0     131\n",
       "17.0      69\n",
       "18.0     330\n",
       "19.0      77\n",
       "20.0     333\n",
       "21.0     105\n",
       "22.0     235\n",
       "23.0      62\n",
       "24.0     160\n",
       "25.0     132\n",
       "26.0     228\n",
       "27.0      67\n",
       "28.0       5\n",
       "29.0     191\n",
       "        ... \n",
       "470.0    144\n",
       "471.0    340\n",
       "472.0    447\n",
       "473.0     46\n",
       "474.0      6\n",
       "475.0    489\n",
       "476.0    215\n",
       "477.0    282\n",
       "478.0    270\n",
       "479.0    311\n",
       "480.0    479\n",
       "481.0     27\n",
       "482.0    231\n",
       "483.0    294\n",
       "484.0    389\n",
       "485.0    196\n",
       "486.0     16\n",
       "487.0    256\n",
       "488.0     71\n",
       "489.0    165\n",
       "490.0    419\n",
       "491.0    441\n",
       "492.0    178\n",
       "493.0     84\n",
       "494.0    373\n",
       "495.0     97\n",
       "496.0    409\n",
       "497.0    431\n",
       "498.0    403\n",
       "499.0    107\n",
       "Name: time_rank, Length: 500, dtype: int64"
      ]
     },
     "execution_count": 114,
     "metadata": {},
     "output_type": "execute_result"
    }
   ],
   "source": [
    "date_sorter()"
   ]
  },
  {
   "cell_type": "code",
   "execution_count": null,
   "metadata": {
    "collapsed": true
   },
   "outputs": [],
   "source": []
  }
 ],
 "metadata": {
  "coursera": {
   "course_slug": "python-text-mining",
   "graded_item_id": "LvcWI",
   "launcher_item_id": "krne9",
   "part_id": "Mkp1I"
  },
  "kernelspec": {
   "display_name": "Python 3",
   "language": "python",
   "name": "python3"
  },
  "language_info": {
   "codemirror_mode": {
    "name": "ipython",
    "version": 3
   },
   "file_extension": ".py",
   "mimetype": "text/x-python",
   "name": "python",
   "nbconvert_exporter": "python",
   "pygments_lexer": "ipython3",
   "version": "3.6.0"
  }
 },
 "nbformat": 4,
 "nbformat_minor": 2
}
